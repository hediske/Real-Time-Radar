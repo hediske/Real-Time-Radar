{
 "cells": [
  {
   "cell_type": "code",
   "execution_count": null,
   "metadata": {
    "collapsed": true,
    "id": "JrqRy-p4vRyy"
   },
   "outputs": [],
   "source": [
    "%pip install inference\n",
    "%pip install supervision\n",
    "%pip install yt_dlp"
   ]
  },
  {
   "cell_type": "code",
   "execution_count": null,
   "metadata": {
    "id": "0hF0xzFc8tmU"
   },
   "outputs": [],
   "source": [
    "import cv2\n",
    "import yt_dlp\n",
    "import threading\n",
    "import queue\n",
    "import time\n",
    "from inference.models.utils import get_roboflow_model\n",
    "import supervision as sv\n",
    "from google.colab.patches import cv2_imshow\n"
   ]
  },
  {
   "cell_type": "code",
   "execution_count": null,
   "metadata": {
    "colab": {
     "base_uri": "https://localhost:8080/",
     "height": 102,
     "referenced_widgets": [
      "d725eba883224d9d969331f5adb5f0ff",
      "8894d4cea341439bb69f3388bd3433a3",
      "2b78d3427aa34bc3966bf19265c85932",
      "9eea6250625048a281d1593761c142af",
      "54a880cab6864433b6ae2a17958253fd",
      "af3a36ea47ce4998afdac9ab40e1a048",
      "2700ed8b7ff44b02aab3e54f5d81e07e",
      "192731ea08d142df86e2f5525bb78c60",
      "ee4aed9446a245d18098df1026e63252",
      "cadea5f2642d415f9a4b9a6e10ce9334",
      "aa4d319cde7e480c964d0fc56669d3e5"
     ]
    },
    "collapsed": true,
    "id": "thkw8Kin6dqV",
    "outputId": "b8f65e02-904b-414b-888f-5d92e880f226"
   },
   "outputs": [
    {
     "name": "stdout",
     "output_type": "stream",
     "text": [
      "Downloading vehicles.mp4 assets \n",
      "\n"
     ]
    },
    {
     "data": {
      "application/vnd.jupyter.widget-view+json": {
       "model_id": "d725eba883224d9d969331f5adb5f0ff",
       "version_major": 2,
       "version_minor": 0
      },
      "text/plain": [
       "  0%|          | 0/35345757 [00:00<?, ?it/s]"
      ]
     },
     "metadata": {},
     "output_type": "display_data"
    },
    {
     "data": {
      "application/vnd.google.colaboratory.intrinsic+json": {
       "type": "string"
      },
      "text/plain": [
       "'vehicles.mp4'"
      ]
     },
     "execution_count": 2,
     "metadata": {},
     "output_type": "execute_result"
    }
   ],
   "source": [
    "import os\n",
    "\n",
    "from supervision.assets import VideoAssets, download_assets\n",
    "\n",
    "if not os.path.exists(\"data\"):\n",
    "    os.makedirs(\"data\")\n",
    "os.chdir(\"data\")\n",
    "download_assets(VideoAssets.VEHICLES)"
   ]
  },
  {
   "cell_type": "code",
   "execution_count": null,
   "metadata": {
    "id": "AANKLxq08p_A"
   },
   "outputs": [],
   "source": [
    "def get_stream_url(youtube_url):\n",
    "    ydl_opts = {\n",
    "        \"format\": \"best\",\n",
    "        # \"quiet\": True,\n",
    "        \"noplaylist\": True,\n",
    "        \"buffer_size\": \"16M\",\n",
    "        \"downloader_args\": {\"ffmpeg_i\": \"-reconnect 1 -reconnect_streamed 1 -reconnect_delay_max 5\"},\n",
    "    }\n",
    "    with yt_dlp.YoutubeDL(ydl_opts) as ydl:\n",
    "        info = ydl.extract_info(youtube_url, download=False)\n",
    "        print(info)\n",
    "        return info[\"url\"]"
   ]
  },
  {
   "cell_type": "code",
   "execution_count": null,
   "metadata": {
    "id": "e1-l0go48ghx"
   },
   "outputs": [],
   "source": [
    "\n",
    "class LiveCapture:\n",
    "\n",
    "    def __init__(self, url,fps, max_buffer_size=100):\n",
    "        self.url = url\n",
    "        self.cap = cv2.VideoCapture(self.url, cv2.CAP_FFMPEG)\n",
    "        self.stopped = False\n",
    "        if not self.isOpened():\n",
    "            raise FileNotFoundError(\"Stream not found\")\n",
    "        self.fps = fps\n",
    "        self.frame_queue = queue.Queue(maxsize=max_buffer_size)\n",
    "\n",
    "    def start(self):\n",
    "        print('Started Streaming frames from the video stream')\n",
    "        thread = threading.Thread(target=self.update, daemon=True)\n",
    "        thread.start()\n",
    "        return self\n",
    "\n",
    "    def update(self):\n",
    "        # fps = self.cap.get(cv2.CAP_PROP_FPS)\n",
    "        # print(fps)\n",
    "        while not self.stopped:\n",
    "            ret, frame = self.cap.read()\n",
    "            if ret:\n",
    "                if not self.frame_queue.full():\n",
    "                    self.frame_queue.put(frame)  # Add frame to queue\n",
    "                else:\n",
    "                    self.frame_queue.get()  # Remove oldest frame\n",
    "                    self.frame_queue.put(frame)  # Add new frame\n",
    "\n",
    "    def stop(self):\n",
    "        self.stopped = True\n",
    "        self.cap.release()\n",
    "\n",
    "    def read(self):\n",
    "        if not self.frame_queue.empty():\n",
    "            return self.frame_queue.get()\n",
    "        return None  # Return None if queue is empty\n",
    "\n",
    "    def isOpened(self):\n",
    "        print(\"Checking if the stream is opened\")\n",
    "        return self.cap.isOpened()"
   ]
  },
  {
   "cell_type": "code",
   "execution_count": 1,
   "metadata": {
    "id": "py_CeKtUBeV4"
   },
   "outputs": [],
   "source": [
    "\n",
    "class VideoTracker:\n",
    "    def __init__(self, model_path):\n",
    "        self.byte_track = None\n",
    "        self.box_annotator = None\n",
    "        self.label_annotator = None\n",
    "        self.trace_annotator = None\n",
    "        self.model = None\n",
    "        self.load_model(model_path)\n",
    "\n",
    "    def load_model(self, model_path):\n",
    "        self.model = get_roboflow_model(model_path)\n",
    "        print(\"Model Successfully Loaded\")\n",
    "\n",
    "    def setup_annotators(self, thickness, text_scale, fps):\n",
    "        self.box_annotator = sv.BoxAnnotator(thickness=thickness)\n",
    "        self.label_annotator = sv.LabelAnnotator(\n",
    "            text_scale=text_scale,\n",
    "            text_thickness=thickness,\n",
    "            text_position=sv.Position.BOTTOM_CENTER,\n",
    "        )\n",
    "        self.trace_annotator = sv.TraceAnnotator(\n",
    "            thickness=thickness,\n",
    "            trace_length=fps * 2,\n",
    "            position=sv.Position.BOTTOM_CENTER,\n",
    "        )\n",
    "\n",
    "    def setup_byte_tracker(self, fps):\n",
    "        self.byte_track = sv.ByteTrack(\n",
    "            minimum_matching_threshold=0.0,\n",
    "            frame_rate=fps\n",
    "        )\n",
    "\n",
    "    def annotate_frame(self, frame):\n",
    "        # Run model inference\n",
    "        result = self.model.infer(frame)[0]\n",
    "        detections = sv.Detections.from_inference(result)\n",
    "        print(detections)\n",
    "\n",
    "        # Use ByteTrack for tracking\n",
    "        detections = self.byte_track.update_with_detections(detections=detections)\n",
    "        print(detections)\n",
    "        labels = [f\"ID: {tracker_id}\" for tracker_id in detections.tracker_id]\n",
    "\n",
    "        # Annotate frame\n",
    "        annotated_frame = self.box_annotator.annotate(scene=frame, detections=detections)\n",
    "        annotated_frame = self.label_annotator.annotate(scene=frame, detections=detections, labels=labels)\n",
    "\n",
    "        return annotated_frame\n",
    "\n",
    "    def stream_local_video(self, path):\n",
    "        video_info = sv.VideoInfo.from_video_path(video_path=path)\n",
    "        thickness = sv.calculate_optimal_line_thickness(resolution_wh=video_info.resolution_wh)\n",
    "        text_scale = sv.calculate_optimal_text_scale(resolution_wh=video_info.resolution_wh)\n",
    "        fps = video_info.fps\n",
    "\n",
    "        self.setup_annotators(thickness, text_scale, fps)\n",
    "        self.setup_byte_tracker(fps)\n",
    "\n",
    "        frame_generator = sv.get_video_frames_generator(source_path=path)\n",
    "        for frame in frame_generator:\n",
    "            start_time = time.time()\n",
    "            annotated_frame = self.annotate_frame(frame)\n",
    "            annotated_frame = cv2.resize(annotated_frame, (640, 360))\n",
    "            cv2_imshow(annotated_frame)\n",
    "            end_time = time.time()\n",
    "            time.sleep(max(0, 1 / fps - (end_time - start_time)))\n",
    "            if cv2.waitKey(1) & 0xFF == ord(\"q\"):  # Quit on 'q' key\n",
    "                break"
   ]
  },
  {
   "cell_type": "code",
   "execution_count": null,
   "metadata": {
    "id": "5-CWKmZ6ta77"
   },
   "outputs": [],
   "source": [
    "    model_path = \"yolov8x-640\"\n",
    "    video_path = \"/content/data/vehicles.mp4\"\n",
    "\n",
    "    tracker = VideoTracker(model_path)\n",
    "    tracker.stream_local_video(video_path)\n"
   ]
  }
 ],
 "metadata": {
  "colab": {
   "provenance": []
  },
  "kernelspec": {
   "display_name": "Python 3",
   "name": "python3"
  },
  "language_info": {
   "name": "python"
  },
  "widgets": {
   "application/vnd.jupyter.widget-state+json": {
    "192731ea08d142df86e2f5525bb78c60": {
     "model_module": "@jupyter-widgets/base",
     "model_module_version": "1.2.0",
     "model_name": "LayoutModel",
     "state": {
      "_model_module": "@jupyter-widgets/base",
      "_model_module_version": "1.2.0",
      "_model_name": "LayoutModel",
      "_view_count": null,
      "_view_module": "@jupyter-widgets/base",
      "_view_module_version": "1.2.0",
      "_view_name": "LayoutView",
      "align_content": null,
      "align_items": null,
      "align_self": null,
      "border": null,
      "bottom": null,
      "display": null,
      "flex": null,
      "flex_flow": null,
      "grid_area": null,
      "grid_auto_columns": null,
      "grid_auto_flow": null,
      "grid_auto_rows": null,
      "grid_column": null,
      "grid_gap": null,
      "grid_row": null,
      "grid_template_areas": null,
      "grid_template_columns": null,
      "grid_template_rows": null,
      "height": null,
      "justify_content": null,
      "justify_items": null,
      "left": null,
      "margin": null,
      "max_height": null,
      "max_width": null,
      "min_height": null,
      "min_width": null,
      "object_fit": null,
      "object_position": null,
      "order": null,
      "overflow": null,
      "overflow_x": null,
      "overflow_y": null,
      "padding": null,
      "right": null,
      "top": null,
      "visibility": null,
      "width": null
     }
    },
    "2700ed8b7ff44b02aab3e54f5d81e07e": {
     "model_module": "@jupyter-widgets/controls",
     "model_module_version": "1.5.0",
     "model_name": "DescriptionStyleModel",
     "state": {
      "_model_module": "@jupyter-widgets/controls",
      "_model_module_version": "1.5.0",
      "_model_name": "DescriptionStyleModel",
      "_view_count": null,
      "_view_module": "@jupyter-widgets/base",
      "_view_module_version": "1.2.0",
      "_view_name": "StyleView",
      "description_width": ""
     }
    },
    "2b78d3427aa34bc3966bf19265c85932": {
     "model_module": "@jupyter-widgets/controls",
     "model_module_version": "1.5.0",
     "model_name": "FloatProgressModel",
     "state": {
      "_dom_classes": [],
      "_model_module": "@jupyter-widgets/controls",
      "_model_module_version": "1.5.0",
      "_model_name": "FloatProgressModel",
      "_view_count": null,
      "_view_module": "@jupyter-widgets/controls",
      "_view_module_version": "1.5.0",
      "_view_name": "ProgressView",
      "bar_style": "success",
      "description": "",
      "description_tooltip": null,
      "layout": "IPY_MODEL_192731ea08d142df86e2f5525bb78c60",
      "max": 35345757,
      "min": 0,
      "orientation": "horizontal",
      "style": "IPY_MODEL_ee4aed9446a245d18098df1026e63252",
      "value": 35345757
     }
    },
    "54a880cab6864433b6ae2a17958253fd": {
     "model_module": "@jupyter-widgets/base",
     "model_module_version": "1.2.0",
     "model_name": "LayoutModel",
     "state": {
      "_model_module": "@jupyter-widgets/base",
      "_model_module_version": "1.2.0",
      "_model_name": "LayoutModel",
      "_view_count": null,
      "_view_module": "@jupyter-widgets/base",
      "_view_module_version": "1.2.0",
      "_view_name": "LayoutView",
      "align_content": null,
      "align_items": null,
      "align_self": null,
      "border": null,
      "bottom": null,
      "display": null,
      "flex": null,
      "flex_flow": null,
      "grid_area": null,
      "grid_auto_columns": null,
      "grid_auto_flow": null,
      "grid_auto_rows": null,
      "grid_column": null,
      "grid_gap": null,
      "grid_row": null,
      "grid_template_areas": null,
      "grid_template_columns": null,
      "grid_template_rows": null,
      "height": null,
      "justify_content": null,
      "justify_items": null,
      "left": null,
      "margin": null,
      "max_height": null,
      "max_width": null,
      "min_height": null,
      "min_width": null,
      "object_fit": null,
      "object_position": null,
      "order": null,
      "overflow": null,
      "overflow_x": null,
      "overflow_y": null,
      "padding": null,
      "right": null,
      "top": null,
      "visibility": null,
      "width": null
     }
    },
    "8894d4cea341439bb69f3388bd3433a3": {
     "model_module": "@jupyter-widgets/controls",
     "model_module_version": "1.5.0",
     "model_name": "HTMLModel",
     "state": {
      "_dom_classes": [],
      "_model_module": "@jupyter-widgets/controls",
      "_model_module_version": "1.5.0",
      "_model_name": "HTMLModel",
      "_view_count": null,
      "_view_module": "@jupyter-widgets/controls",
      "_view_module_version": "1.5.0",
      "_view_name": "HTMLView",
      "description": "",
      "description_tooltip": null,
      "layout": "IPY_MODEL_af3a36ea47ce4998afdac9ab40e1a048",
      "placeholder": "​",
      "style": "IPY_MODEL_2700ed8b7ff44b02aab3e54f5d81e07e",
      "value": "100%"
     }
    },
    "9eea6250625048a281d1593761c142af": {
     "model_module": "@jupyter-widgets/controls",
     "model_module_version": "1.5.0",
     "model_name": "HTMLModel",
     "state": {
      "_dom_classes": [],
      "_model_module": "@jupyter-widgets/controls",
      "_model_module_version": "1.5.0",
      "_model_name": "HTMLModel",
      "_view_count": null,
      "_view_module": "@jupyter-widgets/controls",
      "_view_module_version": "1.5.0",
      "_view_name": "HTMLView",
      "description": "",
      "description_tooltip": null,
      "layout": "IPY_MODEL_cadea5f2642d415f9a4b9a6e10ce9334",
      "placeholder": "​",
      "style": "IPY_MODEL_aa4d319cde7e480c964d0fc56669d3e5",
      "value": " 33.7M/33.7M [00:00&lt;00:00, 54.2MB/s]"
     }
    },
    "aa4d319cde7e480c964d0fc56669d3e5": {
     "model_module": "@jupyter-widgets/controls",
     "model_module_version": "1.5.0",
     "model_name": "DescriptionStyleModel",
     "state": {
      "_model_module": "@jupyter-widgets/controls",
      "_model_module_version": "1.5.0",
      "_model_name": "DescriptionStyleModel",
      "_view_count": null,
      "_view_module": "@jupyter-widgets/base",
      "_view_module_version": "1.2.0",
      "_view_name": "StyleView",
      "description_width": ""
     }
    },
    "af3a36ea47ce4998afdac9ab40e1a048": {
     "model_module": "@jupyter-widgets/base",
     "model_module_version": "1.2.0",
     "model_name": "LayoutModel",
     "state": {
      "_model_module": "@jupyter-widgets/base",
      "_model_module_version": "1.2.0",
      "_model_name": "LayoutModel",
      "_view_count": null,
      "_view_module": "@jupyter-widgets/base",
      "_view_module_version": "1.2.0",
      "_view_name": "LayoutView",
      "align_content": null,
      "align_items": null,
      "align_self": null,
      "border": null,
      "bottom": null,
      "display": null,
      "flex": null,
      "flex_flow": null,
      "grid_area": null,
      "grid_auto_columns": null,
      "grid_auto_flow": null,
      "grid_auto_rows": null,
      "grid_column": null,
      "grid_gap": null,
      "grid_row": null,
      "grid_template_areas": null,
      "grid_template_columns": null,
      "grid_template_rows": null,
      "height": null,
      "justify_content": null,
      "justify_items": null,
      "left": null,
      "margin": null,
      "max_height": null,
      "max_width": null,
      "min_height": null,
      "min_width": null,
      "object_fit": null,
      "object_position": null,
      "order": null,
      "overflow": null,
      "overflow_x": null,
      "overflow_y": null,
      "padding": null,
      "right": null,
      "top": null,
      "visibility": null,
      "width": null
     }
    },
    "cadea5f2642d415f9a4b9a6e10ce9334": {
     "model_module": "@jupyter-widgets/base",
     "model_module_version": "1.2.0",
     "model_name": "LayoutModel",
     "state": {
      "_model_module": "@jupyter-widgets/base",
      "_model_module_version": "1.2.0",
      "_model_name": "LayoutModel",
      "_view_count": null,
      "_view_module": "@jupyter-widgets/base",
      "_view_module_version": "1.2.0",
      "_view_name": "LayoutView",
      "align_content": null,
      "align_items": null,
      "align_self": null,
      "border": null,
      "bottom": null,
      "display": null,
      "flex": null,
      "flex_flow": null,
      "grid_area": null,
      "grid_auto_columns": null,
      "grid_auto_flow": null,
      "grid_auto_rows": null,
      "grid_column": null,
      "grid_gap": null,
      "grid_row": null,
      "grid_template_areas": null,
      "grid_template_columns": null,
      "grid_template_rows": null,
      "height": null,
      "justify_content": null,
      "justify_items": null,
      "left": null,
      "margin": null,
      "max_height": null,
      "max_width": null,
      "min_height": null,
      "min_width": null,
      "object_fit": null,
      "object_position": null,
      "order": null,
      "overflow": null,
      "overflow_x": null,
      "overflow_y": null,
      "padding": null,
      "right": null,
      "top": null,
      "visibility": null,
      "width": null
     }
    },
    "d725eba883224d9d969331f5adb5f0ff": {
     "model_module": "@jupyter-widgets/controls",
     "model_module_version": "1.5.0",
     "model_name": "HBoxModel",
     "state": {
      "_dom_classes": [],
      "_model_module": "@jupyter-widgets/controls",
      "_model_module_version": "1.5.0",
      "_model_name": "HBoxModel",
      "_view_count": null,
      "_view_module": "@jupyter-widgets/controls",
      "_view_module_version": "1.5.0",
      "_view_name": "HBoxView",
      "box_style": "",
      "children": [
       "IPY_MODEL_8894d4cea341439bb69f3388bd3433a3",
       "IPY_MODEL_2b78d3427aa34bc3966bf19265c85932",
       "IPY_MODEL_9eea6250625048a281d1593761c142af"
      ],
      "layout": "IPY_MODEL_54a880cab6864433b6ae2a17958253fd"
     }
    },
    "ee4aed9446a245d18098df1026e63252": {
     "model_module": "@jupyter-widgets/controls",
     "model_module_version": "1.5.0",
     "model_name": "ProgressStyleModel",
     "state": {
      "_model_module": "@jupyter-widgets/controls",
      "_model_module_version": "1.5.0",
      "_model_name": "ProgressStyleModel",
      "_view_count": null,
      "_view_module": "@jupyter-widgets/base",
      "_view_module_version": "1.2.0",
      "_view_name": "StyleView",
      "bar_color": "#a351fb",
      "description_width": ""
     }
    }
   }
  }
 },
 "nbformat": 4,
 "nbformat_minor": 0
}
